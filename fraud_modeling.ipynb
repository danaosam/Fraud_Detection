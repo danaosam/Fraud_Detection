{
  "nbformat": 4,
  "nbformat_minor": 0,
  "metadata": {
    "colab": {
      "provenance": [],
      "gpuType": "T4"
    },
    "kernelspec": {
      "name": "python3",
      "display_name": "Python 3"
    },
    "language_info": {
      "name": "python"
    },
    "accelerator": "GPU"
  },
  "cells": [
    {
      "cell_type": "code",
      "source": [
        "from google.colab import drive\n",
        "drive.mount('/content/drive')"
      ],
      "metadata": {
        "colab": {
          "base_uri": "https://localhost:8080/"
        },
        "id": "ZrAmO5PhvCZU",
        "outputId": "f3c9c8be-8c39-40df-b4ea-a7178bcd9b95"
      },
      "execution_count": 1,
      "outputs": [
        {
          "output_type": "stream",
          "name": "stdout",
          "text": [
            "Mounted at /content/drive\n"
          ]
        }
      ]
    },
    {
      "cell_type": "code",
      "source": [
        "import pandas as pd\n",
        "from sklearn.ensemble import RandomForestClassifier, GradientBoostingClassifier\n",
        "from sklearn.linear_model import LogisticRegression\n",
        "from sklearn.neural_network import MLPClassifier\n",
        "from sklearn.naive_bayes import GaussianNB\n",
        "from sklearn.neighbors import KNeighborsClassifier\n",
        "from sklearn.tree import DecisionTreeClassifier\n",
        "from sklearn.metrics import f1_score, roc_auc_score, recall_score, accuracy_score, precision_score\n",
        "from sklearn.model_selection import train_test_split\n",
        "from sklearn.preprocessing import StandardScaler\n",
        "from tqdm import tqdm\n",
        "\n",
        "# Load oversampled and undersampled data\n",
        "oversampled_data = pd.read_csv('/content/drive/MyDrive/oversampled_data.csv')\n",
        "undersampled_data = pd.read_csv('/content/drive/MyDrive/undersampled_data.csv')\n",
        "\n",
        "# Features and target for oversampled data\n",
        "X_smote = oversampled_data.drop('fraud', axis=1)\n",
        "y_smote = oversampled_data['fraud']\n",
        "\n",
        "# Features and target for undersampled data\n",
        "X_rus = undersampled_data.drop('fraud', axis=1)\n",
        "y_rus = undersampled_data['fraud']\n",
        "\n",
        "# Train-test split for oversampled data\n",
        "X_train_smote, X_test_smote, y_train_smote, y_test_smote = train_test_split(X_smote, y_smote, test_size=0.3, random_state=42, stratify=y_smote)\n",
        "\n",
        "# Train-test split for undersampled data\n",
        "X_train_rus, X_test_rus, y_train_rus, y_test_rus = train_test_split(X_rus, y_rus, test_size=0.3, random_state=42, stratify=y_rus)\n",
        "\n",
        "# Apply Standard Scaling to the features\n",
        "scaler = StandardScaler()\n",
        "X_train_smote = scaler.fit_transform(X_train_smote)\n",
        "X_test_smote = scaler.transform(X_test_smote)\n",
        "X_train_rus = scaler.fit_transform(X_train_rus)\n",
        "X_test_rus = scaler.transform(X_test_rus)\n",
        "\n",
        "# Initialize models with early stopping where applicable\n",
        "models = {\n",
        "    'Random Forest': RandomForestClassifier(random_state=42, n_estimators=100),\n",
        "    'Gradient Boosting': GradientBoostingClassifier(random_state=42, n_estimators=100, validation_fraction=0.1, n_iter_no_change=10),\n",
        "    'Logistic Regression': LogisticRegression(random_state=42, max_iter=1000),\n",
        "    'Neural Network': MLPClassifier(random_state=42, max_iter=1000, early_stopping=True, validation_fraction=0.1),\n",
        "    'Naive Bayes': GaussianNB(),\n",
        "    'Decision Tree': DecisionTreeClassifier(random_state=42)\n",
        "}\n",
        "\n",
        "# Function to train and evaluate models with progress tracking\n",
        "def train_and_evaluate(model_name, model, X_train, y_train, X_test, y_test):\n",
        "    print(f\"Training {model_name}...\")\n",
        "    model.fit(X_train, y_train)\n",
        "    y_pred = model.predict(X_test)\n",
        "    f1 = f1_score(y_test, y_pred)\n",
        "    roc_auc = roc_auc_score(y_test, y_pred)\n",
        "    recall = recall_score(y_test, y_pred)\n",
        "    accuracy = accuracy_score(y_test, y_pred)\n",
        "    precision = precision_score(y_test, y_pred)\n",
        "    print(f\"{model_name} - F1 Score: {f1:.4f}, ROC AUC: {roc_auc:.4f}, Recall: {recall:.4f}, Accuracy: {accuracy:.4f}, Precision: {precision:.4f}\")\n",
        "    return {model_name: {'F1 Score': f1, 'ROC AUC': roc_auc, 'Recall': recall, 'Accuracy': accuracy, 'Precision': precision}}\n",
        "\n",
        "# Train and evaluate on oversampled data\n",
        "print(\"Results on Oversampled Data (SMOTE):\")\n",
        "results_smote = {}\n",
        "for model_name, model in tqdm(models.items()):\n",
        "    result = train_and_evaluate(model_name, model, X_train_smote, y_train_smote, X_test_smote, y_test_smote)\n",
        "    results_smote.update(result)\n",
        "\n",
        "# Train and evaluate on undersampled data\n",
        "print(\"\\nResults on Undersampled Data (RUS):\")\n",
        "results_rus = {}\n",
        "for model_name, model in tqdm(models.items()):\n",
        "    result = train_and_evaluate(model_name, model, X_train_rus, y_train_rus, X_test_rus, y_test_rus)\n",
        "    results_rus.update(result)\n",
        "\n",
        "# Display the results\n",
        "print(\"\\nSMOTE (Oversampling) Results\")\n",
        "print(pd.DataFrame(results_smote).transpose())\n",
        "\n",
        "print(\"\\nRandom UnderSampler (Undersampling) Results\")\n",
        "print(pd.DataFrame(results_rus).transpose())\n"
      ],
      "metadata": {
        "colab": {
          "base_uri": "https://localhost:8080/"
        },
        "id": "79UVyAyIvRJ6",
        "outputId": "e5ffe427-d40c-4077-b430-66772d99fc74"
      },
      "execution_count": 1,
      "outputs": [
        {
          "output_type": "stream",
          "name": "stdout",
          "text": [
            "Results on Oversampled Data (SMOTE):\n"
          ]
        },
        {
          "output_type": "stream",
          "name": "stderr",
          "text": [
            "\r  0%|          | 0/6 [00:00<?, ?it/s]"
          ]
        },
        {
          "output_type": "stream",
          "name": "stdout",
          "text": [
            "Training Random Forest...\n"
          ]
        },
        {
          "output_type": "stream",
          "name": "stderr",
          "text": [
            "\r 17%|█▋        | 1/6 [01:37<08:08, 97.64s/it]"
          ]
        },
        {
          "output_type": "stream",
          "name": "stdout",
          "text": [
            "Random Forest - F1 Score: 0.9973, ROC AUC: 0.9973, Recall: 0.9980, Accuracy: 0.9973, Precision: 0.9966\n",
            "Training Gradient Boosting...\n"
          ]
        },
        {
          "output_type": "stream",
          "name": "stderr",
          "text": [
            "\r 33%|███▎      | 2/6 [07:01<15:23, 230.77s/it]"
          ]
        },
        {
          "output_type": "stream",
          "name": "stdout",
          "text": [
            "Gradient Boosting - F1 Score: 0.9891, ROC AUC: 0.9890, Recall: 0.9913, Accuracy: 0.9890, Precision: 0.9869\n",
            "Training Logistic Regression...\n"
          ]
        },
        {
          "output_type": "stream",
          "name": "stderr",
          "text": [
            "\r 50%|█████     | 3/6 [08:14<07:56, 158.88s/it]"
          ]
        },
        {
          "output_type": "stream",
          "name": "stdout",
          "text": [
            "Logistic Regression - F1 Score: 0.9956, ROC AUC: 0.9956, Recall: 0.9945, Accuracy: 0.9956, Precision: 0.9967\n",
            "Training Neural Network...\n"
          ]
        },
        {
          "output_type": "stream",
          "name": "stderr",
          "text": [
            "\r 67%|██████▋   | 4/6 [10:55<05:18, 159.49s/it]"
          ]
        },
        {
          "output_type": "stream",
          "name": "stdout",
          "text": [
            "Neural Network - F1 Score: 0.9963, ROC AUC: 0.9963, Recall: 0.9964, Accuracy: 0.9963, Precision: 0.9963\n",
            "Training Naive Bayes...\n"
          ]
        },
        {
          "output_type": "stream",
          "name": "stderr",
          "text": [
            "\r 83%|████████▎ | 5/6 [10:57<01:42, 102.70s/it]"
          ]
        },
        {
          "output_type": "stream",
          "name": "stdout",
          "text": [
            "Naive Bayes - F1 Score: 0.9754, ROC AUC: 0.9747, Recall: 1.0000, Accuracy: 0.9747, Precision: 0.9519\n",
            "Training Decision Tree...\n"
          ]
        },
        {
          "output_type": "stream",
          "name": "stderr",
          "text": [
            "100%|██████████| 6/6 [11:13<00:00, 112.18s/it]\n"
          ]
        },
        {
          "output_type": "stream",
          "name": "stdout",
          "text": [
            "Decision Tree - F1 Score: 0.9949, ROC AUC: 0.9949, Recall: 0.9956, Accuracy: 0.9949, Precision: 0.9942\n",
            "\n",
            "Results on Undersampled Data (RUS):\n"
          ]
        },
        {
          "output_type": "stream",
          "name": "stderr",
          "text": [
            "\r  0%|          | 0/6 [00:00<?, ?it/s]"
          ]
        },
        {
          "output_type": "stream",
          "name": "stdout",
          "text": [
            "Training Random Forest...\n"
          ]
        },
        {
          "output_type": "stream",
          "name": "stderr",
          "text": [
            "\r 17%|█▋        | 1/6 [00:00<00:03,  1.34it/s]"
          ]
        },
        {
          "output_type": "stream",
          "name": "stdout",
          "text": [
            "Random Forest - F1 Score: 0.9775, ROC AUC: 0.9773, Recall: 0.9875, Accuracy: 0.9773, Precision: 0.9678\n",
            "Training Gradient Boosting...\n"
          ]
        },
        {
          "output_type": "stream",
          "name": "stderr",
          "text": [
            "\r 33%|███▎      | 2/6 [00:02<00:05,  1.31s/it]"
          ]
        },
        {
          "output_type": "stream",
          "name": "stdout",
          "text": [
            "Gradient Boosting - F1 Score: 0.9788, ROC AUC: 0.9785, Recall: 0.9921, Accuracy: 0.9785, Precision: 0.9658\n",
            "Training Logistic Regression...\n"
          ]
        },
        {
          "output_type": "stream",
          "name": "stderr",
          "text": [
            "\r 50%|█████     | 3/6 [00:02<00:02,  1.22it/s]"
          ]
        },
        {
          "output_type": "stream",
          "name": "stdout",
          "text": [
            "Logistic Regression - F1 Score: 0.9792, ROC AUC: 0.9789, Recall: 0.9894, Accuracy: 0.9789, Precision: 0.9692\n",
            "Training Neural Network...\n"
          ]
        },
        {
          "output_type": "stream",
          "name": "stderr",
          "text": [
            "100%|██████████| 6/6 [00:04<00:00,  1.45it/s]"
          ]
        },
        {
          "output_type": "stream",
          "name": "stdout",
          "text": [
            "Neural Network - F1 Score: 0.9768, ROC AUC: 0.9764, Recall: 0.9954, Accuracy: 0.9764, Precision: 0.9590\n",
            "Training Naive Bayes...\n",
            "Naive Bayes - F1 Score: 0.9760, ROC AUC: 0.9755, Recall: 0.9995, Accuracy: 0.9755, Precision: 0.9536\n",
            "Training Decision Tree...\n",
            "Decision Tree - F1 Score: 0.9720, ROC AUC: 0.9720, Recall: 0.9722, Accuracy: 0.9720, Precision: 0.9718\n",
            "\n",
            "SMOTE (Oversampling) Results\n",
            "                     F1 Score   ROC AUC    Recall  Accuracy  Precision\n",
            "Random Forest        0.997270  0.997268  0.997986  0.997268   0.996555\n",
            "Gradient Boosting    0.989062  0.989037  0.991273  0.989037   0.986860\n",
            "Logistic Regression  0.995558  0.995563  0.994462  0.995563   0.996656\n",
            "Neural Network       0.996326  0.996326  0.996374  0.996326   0.996278\n",
            "Naive Bayes          0.975369  0.974747  1.000000  0.974747   0.951921\n",
            "Decision Tree        0.994900  0.994896  0.995608  0.994896   0.994192\n",
            "\n",
            "Random UnderSampler (Undersampling) Results\n",
            "                     F1 Score   ROC AUC    Recall  Accuracy  Precision\n",
            "Random Forest        0.977544  0.977315  0.987500  0.977315   0.967786\n",
            "Gradient Boosting    0.978762  0.978472  0.992130  0.978472   0.965750\n",
            "Logistic Regression  0.979152  0.978935  0.989352  0.978935   0.969161\n",
            "Neural Network       0.976829  0.976389  0.995370  0.976389   0.958965\n",
            "Naive Bayes          0.976040  0.975463  0.999537  0.975463   0.953622\n",
            "Decision Tree        0.971997  0.971991  0.972222  0.971991   0.971772\n"
          ]
        },
        {
          "output_type": "stream",
          "name": "stderr",
          "text": [
            "\n"
          ]
        }
      ]
    }
  ]
}